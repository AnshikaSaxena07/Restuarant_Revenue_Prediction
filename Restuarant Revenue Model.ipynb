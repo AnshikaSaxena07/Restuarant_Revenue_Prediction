{
 "cells": [
  {
   "cell_type": "code",
   "execution_count": 53,
   "metadata": {},
   "outputs": [],
   "source": [
    "import pandas as pd"
   ]
  },
  {
   "cell_type": "code",
   "execution_count": null,
   "metadata": {},
   "outputs": [],
   "source": []
  },
  {
   "cell_type": "code",
   "execution_count": 54,
   "metadata": {},
   "outputs": [],
   "source": [
    "model = pd.read_pickle(\"Restaurant2\")"
   ]
  },
  {
   "cell_type": "code",
   "execution_count": 55,
   "metadata": {},
   "outputs": [
    {
     "data": {
      "text/plain": [
       "DecisionTreeRegressor(max_depth=10)"
      ]
     },
     "execution_count": 55,
     "metadata": {},
     "output_type": "execute_result"
    }
   ],
   "source": [
    "model"
   ]
  },
  {
   "cell_type": "code",
   "execution_count": 56,
   "metadata": {},
   "outputs": [],
   "source": [
    "cols = ['P1','P2','P3','P4','P5','P6','P7','P8','P9','P10','P11','P12','P13','P14','P15','P16','P17','P18','P19','P20','P21','P22','P23','P24','P25','P26','P27','P28','P29','P30','P31','P32','P33','P34','P35','P36','P37','_Big Cities','_Other','_DT','_IL','_FC']"
   ]
  },
  {
   "cell_type": "code",
   "execution_count": 59,
   "metadata": {},
   "outputs": [
    {
     "name": "stdin",
     "output_type": "stream",
     "text": [
      "Enter City (0/1):  1\n",
      "Enter DL (0/1):  0\n",
      "Enter IL (0/1):  1\n",
      "Enter FC (0/1):  1\n",
      "Enter value for P1 (1-25):  2\n",
      "Enter value for P2 (1-25):  4\n",
      "Enter value for P3 (1-25):  6\n",
      "Enter value for P4 (1-25):  8\n",
      "Enter value for P5 (1-25):  10\n",
      "Enter value for P6 (1-25):  11\n",
      "Enter value for P7 (1-25):  23\n",
      "Enter value for P8 (1-25):  1\n",
      "Enter value for P9 (1-25):  4\n",
      "Enter value for P10 (1-25):  5\n",
      "Enter value for P11 (1-25):  7\n",
      "Enter value for P12 (1-25):  2\n",
      "Enter value for P13 (1-25):  7\n",
      "Enter value for P14 (1-25):  2\n",
      "Enter value for P15 (1-25):  7\n",
      "Enter value for P16 (1-25):  9\n",
      "Enter value for P17 (1-25):  2\n",
      "Enter value for P18 (1-25):  67\n",
      "Enter value for P19 (1-25):  25\n",
      "Enter value for P20 (1-25):  2\n",
      "Enter value for P21 (1-25):  5\n",
      "Enter value for P22 (1-25):  6\n",
      "Enter value for P23 (1-25):  3\n",
      "Enter value for P24 (1-25):  2\n",
      "Enter value for P25 (1-25):  3\n",
      "Enter value for P26 (1-25):  1\n",
      "Enter value for P27 (1-25):  5\n",
      "Enter value for P28 (1-25):  3\n",
      "Enter value for P29 (1-25):  21\n",
      "Enter value for P30 (1-25):  24\n",
      "Enter value for P31 (1-25):  25\n",
      "Enter value for P32 (1-25):  22\n",
      "Enter value for P33 (1-25):  4\n",
      "Enter value for P34 (1-25):  21\n",
      "Enter value for P35 (1-25):  23\n",
      "Enter value for P36 (1-25):  21\n",
      "Enter value for P37 (1-25):  22\n"
     ]
    }
   ],
   "source": [
    "#### big = eval(input(\"Enter Big City (0/1): \"))\n",
    "other =  eval(input(\"Enter City (0/1): \"))\n",
    "DL = eval(input(\"Enter DL (0/1): \"))\n",
    "IL = eval(input(\"Enter IL (0/1): \"))\n",
    "FC = eval(input(\"Enter FC (0/1): \"))\n",
    "P1 = eval(input('Enter value for P1 (1-25): '))\n",
    "P2 = eval(input('Enter value for P2 (1-25): '))\n",
    "P3 = eval(input('Enter value for P3 (1-25): '))\n",
    "P4 = eval(input('Enter value for P4 (1-25): '))\n",
    "P5 = eval(input('Enter value for P5 (1-25): '))\n",
    "P6 = eval(input('Enter value for P6 (1-25): '))\n",
    "P7 = eval(input('Enter value for P7 (1-25): '))\n",
    "P8 = eval(input('Enter value for P8 (1-25): '))\n",
    "P9 = eval(input('Enter value for P9 (1-25): '))\n",
    "P10 = eval(input('Enter value for P10 (1-25): '))\n",
    "P11 = eval(input('Enter value for P11 (1-25): '))\n",
    "P12 = eval(input('Enter value for P12 (1-25): '))\n",
    "P13 = eval(input('Enter value for P13 (1-25): '))\n",
    "P14 = eval(input('Enter value for P14 (1-25): '))\n",
    "P15 = eval(input('Enter value for P15 (1-25): '))\n",
    "P16 = eval(input('Enter value for P16 (1-25): '))\n",
    "P17 = eval(input('Enter value for P17 (1-25): '))\n",
    "P18 = eval(input('Enter value for P18 (1-25): '))\n",
    "P19 = eval(input('Enter value for P19 (1-25): '))\n",
    "P20 = eval(input('Enter value for P20 (1-25): '))\n",
    "P21 = eval(input('Enter value for P21 (1-25): '))\n",
    "P22 = eval(input('Enter value for P22 (1-25): '))\n",
    "P23 = eval(input('Enter value for P23 (1-25): '))\n",
    "P24 = eval(input('Enter value for P24 (1-25): '))\n",
    "P25 = eval(input('Enter value for P25 (1-25): '))\n",
    "P26 = eval(input('Enter value for P26 (1-25): '))\n",
    "P27 = eval(input('Enter value for P27 (1-25): '))\n",
    "P28 = eval(input('Enter value for P28 (1-25): '))\n",
    "P29 = eval(input('Enter value for P29 (1-25): '))\n",
    "P30 = eval(input('Enter value for P30 (1-25): '))\n",
    "P31 = eval(input('Enter value for P31 (1-25): '))\n",
    "P32 = eval(input('Enter value for P32 (1-25): '))\n",
    "P33 = eval(input('Enter value for P33 (1-25): '))\n",
    "P34 = eval(input('Enter value for P34 (1-25): '))\n",
    "P35 = eval(input('Enter value for P35 (1-25): '))\n",
    "P36 = eval(input('Enter value for P36 (1-25): '))\n",
    "P37 = eval(input('Enter value for P37 (1-25): '))\n",
    "\n",
    "query = pd.DataFrame({'_Big Cities':[big],\n",
    "                     '_Other':[other],\n",
    "                     '_DT':[DL],\n",
    "                     '_IL':[IL],\n",
    "                     '_FC':[FC],\n",
    "                     'P1':[P1],\n",
    "                     'P2':[P2],\n",
    "                     'P3':[P3],\n",
    "                     'P4':[P4],\n",
    "                     'P5':[P5],\n",
    "                     'P6':[P6],\n",
    "                     'P7':[P7],\n",
    "                     'P8':[P8],\n",
    "                     'P9':[P9],\n",
    "                     'P10':[P10],\n",
    "                     'P11':[P11],\n",
    "                     'P12':[P12],\n",
    "                     'P13':[P13],\n",
    "                     'P14':[P14],\n",
    "                     'P15':[P15],\n",
    "                     'P16':[P16],\n",
    "                     'P17':[P17],\n",
    "                     'P18':[P18],\n",
    "                     'P19':[P19],\n",
    "                     'P20':[P20],\n",
    "                     'P21':[P21],\n",
    "                     'P22':[P22],\n",
    "                     'P23':[P23],\n",
    "                     'P24':[P24],\n",
    "                     'P25':[P25],\n",
    "                     'P26':[P26],\n",
    "                     'P27':[P27],\n",
    "                     'P28':[P28],\n",
    "                     'P29':[P29],\n",
    "                     'P30':[P30],\n",
    "                     'P31':[P31],\n",
    "                     'P32':[P32],\n",
    "                     'P33':[P33],\n",
    "                     'P34':[P34],\n",
    "                     'P35':[P35],\n",
    "                     'P36':[P36],\n",
    "                     'P37':[P37],})"
   ]
  },
  {
   "cell_type": "code",
   "execution_count": 60,
   "metadata": {},
   "outputs": [
    {
     "data": {
      "text/html": [
       "<div>\n",
       "<style scoped>\n",
       "    .dataframe tbody tr th:only-of-type {\n",
       "        vertical-align: middle;\n",
       "    }\n",
       "\n",
       "    .dataframe tbody tr th {\n",
       "        vertical-align: top;\n",
       "    }\n",
       "\n",
       "    .dataframe thead th {\n",
       "        text-align: right;\n",
       "    }\n",
       "</style>\n",
       "<table border=\"1\" class=\"dataframe\">\n",
       "  <thead>\n",
       "    <tr style=\"text-align: right;\">\n",
       "      <th></th>\n",
       "      <th>_Big Cities</th>\n",
       "      <th>_Other</th>\n",
       "      <th>_DL</th>\n",
       "      <th>_IL</th>\n",
       "      <th>_FC</th>\n",
       "      <th>P1</th>\n",
       "      <th>P2</th>\n",
       "      <th>P3</th>\n",
       "      <th>P4</th>\n",
       "      <th>P5</th>\n",
       "      <th>...</th>\n",
       "      <th>P28</th>\n",
       "      <th>P29</th>\n",
       "      <th>P30</th>\n",
       "      <th>P31</th>\n",
       "      <th>P32</th>\n",
       "      <th>P33</th>\n",
       "      <th>P34</th>\n",
       "      <th>P35</th>\n",
       "      <th>P36</th>\n",
       "      <th>P37</th>\n",
       "    </tr>\n",
       "  </thead>\n",
       "  <tbody>\n",
       "    <tr>\n",
       "      <th>0</th>\n",
       "      <td>1</td>\n",
       "      <td>1</td>\n",
       "      <td>0</td>\n",
       "      <td>1</td>\n",
       "      <td>1</td>\n",
       "      <td>2</td>\n",
       "      <td>4</td>\n",
       "      <td>6</td>\n",
       "      <td>8</td>\n",
       "      <td>10</td>\n",
       "      <td>...</td>\n",
       "      <td>3</td>\n",
       "      <td>21</td>\n",
       "      <td>24</td>\n",
       "      <td>25</td>\n",
       "      <td>22</td>\n",
       "      <td>4</td>\n",
       "      <td>21</td>\n",
       "      <td>23</td>\n",
       "      <td>21</td>\n",
       "      <td>22</td>\n",
       "    </tr>\n",
       "  </tbody>\n",
       "</table>\n",
       "<p>1 rows × 42 columns</p>\n",
       "</div>"
      ],
      "text/plain": [
       "   _Big Cities  _Other  _DL  _IL  _FC  P1  P2  P3  P4  P5  ...  P28  P29  P30  \\\n",
       "0            1       1    0    1    1   2   4   6   8  10  ...    3   21   24   \n",
       "\n",
       "   P31  P32  P33  P34  P35  P36  P37  \n",
       "0   25   22    4   21   23   21   22  \n",
       "\n",
       "[1 rows x 42 columns]"
      ]
     },
     "execution_count": 60,
     "metadata": {},
     "output_type": "execute_result"
    }
   ],
   "source": [
    "query\n"
   ]
  },
  {
   "cell_type": "code",
   "execution_count": 62,
   "metadata": {},
   "outputs": [
    {
     "data": {
      "text/plain": [
       "5166635.0"
      ]
     },
     "execution_count": 62,
     "metadata": {},
     "output_type": "execute_result"
    }
   ],
   "source": [
    "model.predict(query)[0]"
   ]
  },
  {
   "cell_type": "code",
   "execution_count": null,
   "metadata": {},
   "outputs": [],
   "source": []
  }
 ],
 "metadata": {
  "kernelspec": {
   "display_name": "Python 3",
   "language": "python",
   "name": "python3"
  },
  "language_info": {
   "codemirror_mode": {
    "name": "ipython",
    "version": 3
   },
   "file_extension": ".py",
   "mimetype": "text/x-python",
   "name": "python",
   "nbconvert_exporter": "python",
   "pygments_lexer": "ipython3",
   "version": "3.8.5"
  }
 },
 "nbformat": 4,
 "nbformat_minor": 4
}
